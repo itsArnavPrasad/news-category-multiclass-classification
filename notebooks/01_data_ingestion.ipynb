{
 "cells": [
  {
   "cell_type": "code",
   "execution_count": 4,
   "id": "f049875c",
   "metadata": {},
   "outputs": [],
   "source": [
    "import pandas as pd\n",
    "import json\n",
    "import re\n",
    "from sklearn.model_selection import train_test_split\n",
    "from pathlib import Path"
   ]
  },
  {
   "cell_type": "code",
   "execution_count": 12,
   "id": "ead1fc18",
   "metadata": {},
   "outputs": [],
   "source": [
    "# 1. Load raw JSON lines\n",
    "data = []\n",
    "with open(\"../data/raw/News_Category_Dataset_v3.json\", \"r\") as f:\n",
    "    for line in f:\n",
    "        data.append(json.loads(line))\n",
    "\n",
    "# 2. Convert to DataFrame\n",
    "df = pd.DataFrame(data)\n",
    "df = df[[\"headline\", \"category\", \"short_description\"]].dropna()\n",
    "\n",
    "# 3. Clean the text\n",
    "def clean_text(text):\n",
    "    text = text.lower()  # lowercase\n",
    "    text = re.sub(r\"http\\S+|www\\S+|https\\S+\", '', text)  # remove URLs\n",
    "    text = re.sub(r'[^a-z\\s]', '', text)  # remove punctuation\n",
    "    text = re.sub(r'\\s+', ' ', text).strip()  # remove extra spaces\n",
    "    return text\n",
    "\n",
    "df[\"clean_headline\"] = df[\"headline\"].apply(clean_text)"
   ]
  },
  {
   "cell_type": "code",
   "execution_count": 13,
   "id": "d1704ef5",
   "metadata": {},
   "outputs": [
    {
     "name": "stdout",
     "output_type": "stream",
     "text": [
      "✅ Data ingestion and cleaning completed.\n"
     ]
    }
   ],
   "source": [
    "# 4. Stratified split (preserving label distribution)\n",
    "train_df, test_df = train_test_split(\n",
    "    df,\n",
    "    test_size=0.2,\n",
    "    stratify=df[\"category\"],\n",
    "    random_state=42\n",
    ")\n",
    "\n",
    "# 5. Save to CSV\n",
    "Path(\"../data/processed\").mkdir(parents=True, exist_ok=True)\n",
    "train_df.to_csv(\"../data/processed/train.csv\", index=False)\n",
    "test_df.to_csv(\"../data/processed/test.csv\", index=False)\n",
    "\n",
    "print(\"✅ Data ingestion and cleaning completed.\")"
   ]
  },
  {
   "cell_type": "code",
   "execution_count": null,
   "id": "cf0f816e",
   "metadata": {},
   "outputs": [],
   "source": []
  }
 ],
 "metadata": {
  "kernelspec": {
   "display_name": "venv",
   "language": "python",
   "name": "python3"
  },
  "language_info": {
   "codemirror_mode": {
    "name": "ipython",
    "version": 3
   },
   "file_extension": ".py",
   "mimetype": "text/x-python",
   "name": "python",
   "nbconvert_exporter": "python",
   "pygments_lexer": "ipython3",
   "version": "3.13.2"
  }
 },
 "nbformat": 4,
 "nbformat_minor": 5
}
